{
 "cells": [
  {
   "cell_type": "markdown",
   "metadata": {},
   "source": [
    "# Exploratory Analysis of Kickstarter Projects\n",
    "\n",
    "\n",
    "\n",
    "Kickstarter, the New York-based company behind the similarly-named crowdfunding platform, is looking into launching consultation services for guiding project founders towards successful campaigns. In order to do that, it would need to first analyse the data of past crowdfunding campaigns, in order to better understand the factors that give rise to successful project launches.\n",
    "\n",
    "## Introduction\n",
    "\n",
    "For purpose of this exploratory analysis, we would be working with a provided data-set *DSI_kickstarterscrape_dataset.csv* as follows:"
   ]
  },
  {
   "cell_type": "code",
   "execution_count": 1,
   "metadata": {
    "scrolled": false
   },
   "outputs": [
    {
     "name": "stdout",
     "output_type": "stream",
     "text": [
      "<class 'pandas.core.frame.DataFrame'>\n",
      "RangeIndex: 45957 entries, 0 to 45956\n",
      "Data columns (total 17 columns):\n",
      "project id           45957 non-null int64\n",
      "name                 45957 non-null object\n",
      "url                  45957 non-null object\n",
      "category             45957 non-null object\n",
      "subcategory          45957 non-null object\n",
      "location             44635 non-null object\n",
      "status               45957 non-null object\n",
      "goal                 45957 non-null float64\n",
      "pledged              45945 non-null float64\n",
      "funded percentage    45957 non-null float64\n",
      "backers              45957 non-null int64\n",
      "funded date          45957 non-null object\n",
      "levels               45957 non-null int64\n",
      "reward levels        45898 non-null object\n",
      "updates              45957 non-null int64\n",
      "comments             45957 non-null int64\n",
      "duration             45957 non-null float64\n",
      "dtypes: float64(4), int64(5), object(8)\n",
      "memory usage: 6.0+ MB\n"
     ]
    },
    {
     "data": {
      "text/html": [
       "<div>\n",
       "<style scoped>\n",
       "    .dataframe tbody tr th:only-of-type {\n",
       "        vertical-align: middle;\n",
       "    }\n",
       "\n",
       "    .dataframe tbody tr th {\n",
       "        vertical-align: top;\n",
       "    }\n",
       "\n",
       "    .dataframe thead th {\n",
       "        text-align: right;\n",
       "    }\n",
       "</style>\n",
       "<table border=\"1\" class=\"dataframe\">\n",
       "  <thead>\n",
       "    <tr style=\"text-align: right;\">\n",
       "      <th></th>\n",
       "      <th>project id</th>\n",
       "      <th>name</th>\n",
       "      <th>url</th>\n",
       "      <th>category</th>\n",
       "      <th>subcategory</th>\n",
       "      <th>location</th>\n",
       "      <th>status</th>\n",
       "      <th>goal</th>\n",
       "      <th>pledged</th>\n",
       "      <th>funded percentage</th>\n",
       "      <th>backers</th>\n",
       "      <th>funded date</th>\n",
       "      <th>levels</th>\n",
       "      <th>reward levels</th>\n",
       "      <th>updates</th>\n",
       "      <th>comments</th>\n",
       "      <th>duration</th>\n",
       "    </tr>\n",
       "  </thead>\n",
       "  <tbody>\n",
       "    <tr>\n",
       "      <td>0</td>\n",
       "      <td>39409</td>\n",
       "      <td>WHILE THE TREES SLEEP</td>\n",
       "      <td>http://www.kickstarter.com/projects/emiliesaba...</td>\n",
       "      <td>Film &amp; Video</td>\n",
       "      <td>Short Film</td>\n",
       "      <td>Columbia, MO</td>\n",
       "      <td>successful</td>\n",
       "      <td>10500.0</td>\n",
       "      <td>11545.0</td>\n",
       "      <td>1.099524</td>\n",
       "      <td>66</td>\n",
       "      <td>Fri, 19 Aug 2011 19:28:17 -0000</td>\n",
       "      <td>7</td>\n",
       "      <td>$25,$50,$100,$250,$500,$1,000,$2,500</td>\n",
       "      <td>10</td>\n",
       "      <td>2</td>\n",
       "      <td>30.00</td>\n",
       "    </tr>\n",
       "    <tr>\n",
       "      <td>1</td>\n",
       "      <td>126581</td>\n",
       "      <td>Educational Online Trading Card Game</td>\n",
       "      <td>http://www.kickstarter.com/projects/972789543/...</td>\n",
       "      <td>Games</td>\n",
       "      <td>Board &amp; Card Games</td>\n",
       "      <td>Maplewood, NJ</td>\n",
       "      <td>failed</td>\n",
       "      <td>4000.0</td>\n",
       "      <td>20.0</td>\n",
       "      <td>0.005000</td>\n",
       "      <td>2</td>\n",
       "      <td>Mon, 02 Aug 2010 03:59:00 -0000</td>\n",
       "      <td>5</td>\n",
       "      <td>$1,$5,$10,$25,$50</td>\n",
       "      <td>6</td>\n",
       "      <td>0</td>\n",
       "      <td>47.18</td>\n",
       "    </tr>\n",
       "    <tr>\n",
       "      <td>2</td>\n",
       "      <td>138119</td>\n",
       "      <td>STRUM</td>\n",
       "      <td>http://www.kickstarter.com/projects/185476022/...</td>\n",
       "      <td>Film &amp; Video</td>\n",
       "      <td>Animation</td>\n",
       "      <td>Los Angeles, CA</td>\n",
       "      <td>live</td>\n",
       "      <td>20000.0</td>\n",
       "      <td>56.0</td>\n",
       "      <td>0.002800</td>\n",
       "      <td>3</td>\n",
       "      <td>Fri, 08 Jun 2012 00:00:31 -0000</td>\n",
       "      <td>10</td>\n",
       "      <td>$1,$10,$25,$40,$50,$100,$250,$1,000,$1,337,$9,001</td>\n",
       "      <td>1</td>\n",
       "      <td>0</td>\n",
       "      <td>28.00</td>\n",
       "    </tr>\n",
       "    <tr>\n",
       "      <td>3</td>\n",
       "      <td>237090</td>\n",
       "      <td>GETTING OVER - One son's search to finally kno...</td>\n",
       "      <td>http://www.kickstarter.com/projects/charnick/g...</td>\n",
       "      <td>Film &amp; Video</td>\n",
       "      <td>Documentary</td>\n",
       "      <td>Los Angeles, CA</td>\n",
       "      <td>successful</td>\n",
       "      <td>6000.0</td>\n",
       "      <td>6535.0</td>\n",
       "      <td>1.089167</td>\n",
       "      <td>100</td>\n",
       "      <td>Sun, 08 Apr 2012 02:14:00 -0000</td>\n",
       "      <td>13</td>\n",
       "      <td>$1,$10,$25,$30,$50,$75,$85,$100,$110,$250,$500...</td>\n",
       "      <td>4</td>\n",
       "      <td>0</td>\n",
       "      <td>32.22</td>\n",
       "    </tr>\n",
       "    <tr>\n",
       "      <td>4</td>\n",
       "      <td>246101</td>\n",
       "      <td>The Launch of FlyeGrlRoyalty &amp;quot;The New Nam...</td>\n",
       "      <td>http://www.kickstarter.com/projects/flyegrlroy...</td>\n",
       "      <td>Fashion</td>\n",
       "      <td>Fashion</td>\n",
       "      <td>Novi, MI</td>\n",
       "      <td>failed</td>\n",
       "      <td>3500.0</td>\n",
       "      <td>0.0</td>\n",
       "      <td>0.000000</td>\n",
       "      <td>0</td>\n",
       "      <td>Wed, 01 Jun 2011 15:25:39 -0000</td>\n",
       "      <td>6</td>\n",
       "      <td>$10,$25,$50,$100,$150,$250</td>\n",
       "      <td>2</td>\n",
       "      <td>0</td>\n",
       "      <td>30.00</td>\n",
       "    </tr>\n",
       "  </tbody>\n",
       "</table>\n",
       "</div>"
      ],
      "text/plain": [
       "   project id                                               name  \\\n",
       "0       39409                              WHILE THE TREES SLEEP   \n",
       "1      126581               Educational Online Trading Card Game   \n",
       "2      138119                                              STRUM   \n",
       "3      237090  GETTING OVER - One son's search to finally kno...   \n",
       "4      246101  The Launch of FlyeGrlRoyalty &quot;The New Nam...   \n",
       "\n",
       "                                                 url      category  \\\n",
       "0  http://www.kickstarter.com/projects/emiliesaba...  Film & Video   \n",
       "1  http://www.kickstarter.com/projects/972789543/...         Games   \n",
       "2  http://www.kickstarter.com/projects/185476022/...  Film & Video   \n",
       "3  http://www.kickstarter.com/projects/charnick/g...  Film & Video   \n",
       "4  http://www.kickstarter.com/projects/flyegrlroy...       Fashion   \n",
       "\n",
       "          subcategory         location      status     goal  pledged  \\\n",
       "0          Short Film     Columbia, MO  successful  10500.0  11545.0   \n",
       "1  Board & Card Games    Maplewood, NJ      failed   4000.0     20.0   \n",
       "2           Animation  Los Angeles, CA        live  20000.0     56.0   \n",
       "3         Documentary  Los Angeles, CA  successful   6000.0   6535.0   \n",
       "4             Fashion         Novi, MI      failed   3500.0      0.0   \n",
       "\n",
       "   funded percentage  backers                      funded date  levels  \\\n",
       "0           1.099524       66  Fri, 19 Aug 2011 19:28:17 -0000       7   \n",
       "1           0.005000        2  Mon, 02 Aug 2010 03:59:00 -0000       5   \n",
       "2           0.002800        3  Fri, 08 Jun 2012 00:00:31 -0000      10   \n",
       "3           1.089167      100  Sun, 08 Apr 2012 02:14:00 -0000      13   \n",
       "4           0.000000        0  Wed, 01 Jun 2011 15:25:39 -0000       6   \n",
       "\n",
       "                                       reward levels  updates  comments  \\\n",
       "0               $25,$50,$100,$250,$500,$1,000,$2,500       10         2   \n",
       "1                                  $1,$5,$10,$25,$50        6         0   \n",
       "2  $1,$10,$25,$40,$50,$100,$250,$1,000,$1,337,$9,001        1         0   \n",
       "3  $1,$10,$25,$30,$50,$75,$85,$100,$110,$250,$500...        4         0   \n",
       "4                         $10,$25,$50,$100,$150,$250        2         0   \n",
       "\n",
       "   duration  \n",
       "0     30.00  \n",
       "1     47.18  \n",
       "2     28.00  \n",
       "3     32.22  \n",
       "4     30.00  "
      ]
     },
     "execution_count": 1,
     "metadata": {},
     "output_type": "execute_result"
    }
   ],
   "source": [
    "import pandas as pd\n",
    "\n",
    "kickstarter_raw = pd.read_csv('DSI_kickstarterscrape_dataset.csv',encoding=\"latin-1\")\n",
    "\n",
    "kickstarter_raw.info()\n",
    "\n",
    "kickstarter_raw.head()"
   ]
  },
  {
   "cell_type": "code",
   "execution_count": 2,
   "metadata": {
    "scrolled": true
   },
   "outputs": [
    {
     "name": "stdout",
     "output_type": "stream",
     "text": [
      "Distribution of project status:\n",
      "successful    22969\n",
      "failed        18996\n",
      "live           3929\n",
      "canceled         59\n",
      "suspended         4\n",
      "Name: status, dtype: int64\n",
      "\n",
      "\n",
      "Distribution of project funded dates:\n",
      "count                         45957\n",
      "unique                        41068\n",
      "top       2012-01-01 04:59:00+00:00\n",
      "freq                             44\n",
      "first     2009-05-03 06:59:59+00:00\n",
      "last      2012-08-01 19:36:12+00:00\n",
      "Name: funded date, dtype: object\n"
     ]
    }
   ],
   "source": [
    "print('Distribution of project status:')\n",
    "print(kickstarter_raw.loc[:,'status'].value_counts())\n",
    "kickstarter_raw['funded date'] = pd.to_datetime(kickstarter_raw.loc[:,'funded date'])\n",
    "print('\\n\\nDistribution of project funded dates:')\n",
    "print(kickstarter_raw.loc[:,'funded date'].describe())"
   ]
  },
  {
   "cell_type": "markdown",
   "metadata": {},
   "source": [
    "Prelimary inspection of the data-set reveals 45,957 projects being snapshot at various funding stages across three and a half years, with data-points documented across 17 columns. Column details as follows:\n",
    "\n",
    "| Column | Description |\n",
    "|--------|-------------|\n",
    "|project id | Arbitrary project id number |\n",
    "| name | Project name |\n",
    "| url | Web address of project on Kickstarter platform |\n",
    "| category | 1st level categorisation of project |\n",
    "| subcategory | 2nd level categorisation of project |\n",
    "| location | Geological location of project be executed |\n",
    "| status | Current funding stage of project |\n",
    "| goal | Financial goal set by project founder for defining a successfully funded project |\n",
    "| pledged | Current amount of funds being pledged |\n",
    "| funded percentage | Proportion of funding goal achieved |\n",
    "| backers | Number of backers |\n",
    "| funded date | Date/Time upon which contributed funds are finalized (GMT) |\n",
    "| levels | Number of reward tiers |\n",
    "| reward levels | Financial quantum of every reward tier |\n",
    "| updates | Number of project updates published by project founder |\n",
    "| comments | Number of comments posted by backers |\n",
    "| duration | Number of days in project funding campaign |\n",
    "\n",
    "Next we inspect the *categories* column:"
   ]
  },
  {
   "cell_type": "code",
   "execution_count": 3,
   "metadata": {},
   "outputs": [
    {
     "name": "stdout",
     "output_type": "stream",
     "text": [
      "Distribution of project status:\n",
      "Film &amp; Video    13053\n",
      "Music               10913\n",
      "Publishing           4770\n",
      "Art                  3992\n",
      "Theater              2492\n",
      "Design               1768\n",
      "Games                1738\n",
      "Photography          1514\n",
      "Food                 1439\n",
      "Fashion              1136\n",
      "Comics               1072\n",
      "Technology            811\n",
      "Dance                 761\n",
      "Film & Video          498\n",
      "Name: category, dtype: int64\n"
     ]
    }
   ],
   "source": [
    "print('Distribution of project status:')\n",
    "print(kickstarter_raw.loc[:,'category'].value_counts())"
   ]
  },
  {
   "cell_type": "markdown",
   "metadata": {},
   "source": [
    "There is another duplicate entry for *Film & Video*, due to incorrect escaping of the ampersand character. Once the wrong value has been replaced, we should be getting 13,551 rows for projects under *Film & Video*. Rectification is carried out as follows:"
   ]
  },
  {
   "cell_type": "code",
   "execution_count": 4,
   "metadata": {},
   "outputs": [
    {
     "name": "stdout",
     "output_type": "stream",
     "text": [
      "Distribution of project status:\n",
      "Film & Video    13551\n",
      "Music           10913\n",
      "Publishing       4770\n",
      "Art              3992\n",
      "Theater          2492\n",
      "Design           1768\n",
      "Games            1738\n",
      "Photography      1514\n",
      "Food             1439\n",
      "Fashion          1136\n",
      "Comics           1072\n",
      "Technology        811\n",
      "Dance             761\n",
      "Name: category, dtype: int64\n"
     ]
    }
   ],
   "source": [
    "replacement_dict = {'Film &amp; Video': 'Film & Video'}\n",
    "\n",
    "kickstarter_raw.loc[:,'category'].replace(replacement_dict, inplace=True)\n",
    "\n",
    "print('Distribution of project status:')\n",
    "print(kickstarter_raw.loc[:,'category'].value_counts())"
   ]
  },
  {
   "cell_type": "markdown",
   "metadata": {},
   "source": [
    "## Part 1: Foundational Data Analysis\n",
    "***\n",
    "\n",
    "\n",
    "### What is the mean (total) pledge that projects get?"
   ]
  },
  {
   "cell_type": "code",
   "execution_count": 5,
   "metadata": {
    "scrolled": true
   },
   "outputs": [
    {
     "data": {
      "text/plain": [
       "4980.749678963979"
      ]
     },
     "execution_count": 5,
     "metadata": {},
     "output_type": "execute_result"
    }
   ],
   "source": [
    "kickstarter_raw.loc[:,'pledged'].mean()"
   ]
  },
  {
   "cell_type": "markdown",
   "metadata": {},
   "source": [
    "Considering all projects in the data-set regardless of the project-status, the mean amount pledged is $4,980.75."
   ]
  },
  {
   "cell_type": "code",
   "execution_count": 6,
   "metadata": {
    "scrolled": true
   },
   "outputs": [
    {
     "data": {
      "text/html": [
       "<div>\n",
       "<style scoped>\n",
       "    .dataframe tbody tr th:only-of-type {\n",
       "        vertical-align: middle;\n",
       "    }\n",
       "\n",
       "    .dataframe tbody tr th {\n",
       "        vertical-align: top;\n",
       "    }\n",
       "\n",
       "    .dataframe thead th {\n",
       "        text-align: right;\n",
       "    }\n",
       "</style>\n",
       "<table border=\"1\" class=\"dataframe\">\n",
       "  <thead>\n",
       "    <tr style=\"text-align: right;\">\n",
       "      <th></th>\n",
       "      <th>project id</th>\n",
       "      <th>goal</th>\n",
       "      <th>pledged</th>\n",
       "      <th>funded percentage</th>\n",
       "      <th>backers</th>\n",
       "      <th>levels</th>\n",
       "      <th>updates</th>\n",
       "      <th>comments</th>\n",
       "      <th>duration</th>\n",
       "    </tr>\n",
       "  </thead>\n",
       "  <tbody>\n",
       "    <tr>\n",
       "      <td>count</td>\n",
       "      <td>4.595700e+04</td>\n",
       "      <td>4.595700e+04</td>\n",
       "      <td>4.594500e+04</td>\n",
       "      <td>45957.000000</td>\n",
       "      <td>45957.000000</td>\n",
       "      <td>45957.000000</td>\n",
       "      <td>45957.00000</td>\n",
       "      <td>45957.000000</td>\n",
       "      <td>45957.000000</td>\n",
       "    </tr>\n",
       "    <tr>\n",
       "      <td>mean</td>\n",
       "      <td>1.080800e+09</td>\n",
       "      <td>1.194271e+04</td>\n",
       "      <td>4.980750e+03</td>\n",
       "      <td>1.850129</td>\n",
       "      <td>69.973192</td>\n",
       "      <td>8.004939</td>\n",
       "      <td>4.08508</td>\n",
       "      <td>8.379529</td>\n",
       "      <td>39.995547</td>\n",
       "    </tr>\n",
       "    <tr>\n",
       "      <td>std</td>\n",
       "      <td>6.218057e+08</td>\n",
       "      <td>1.887583e+05</td>\n",
       "      <td>5.674162e+04</td>\n",
       "      <td>88.492706</td>\n",
       "      <td>688.628479</td>\n",
       "      <td>4.233907</td>\n",
       "      <td>6.43922</td>\n",
       "      <td>174.015737</td>\n",
       "      <td>17.414458</td>\n",
       "    </tr>\n",
       "    <tr>\n",
       "      <td>min</td>\n",
       "      <td>3.940900e+04</td>\n",
       "      <td>1.000000e-02</td>\n",
       "      <td>0.000000e+00</td>\n",
       "      <td>0.000000</td>\n",
       "      <td>0.000000</td>\n",
       "      <td>0.000000</td>\n",
       "      <td>0.00000</td>\n",
       "      <td>0.000000</td>\n",
       "      <td>1.000000</td>\n",
       "    </tr>\n",
       "    <tr>\n",
       "      <td>25%</td>\n",
       "      <td>5.438962e+08</td>\n",
       "      <td>1.800000e+03</td>\n",
       "      <td>1.960000e+02</td>\n",
       "      <td>0.044000</td>\n",
       "      <td>5.000000</td>\n",
       "      <td>5.000000</td>\n",
       "      <td>0.00000</td>\n",
       "      <td>0.000000</td>\n",
       "      <td>30.000000</td>\n",
       "    </tr>\n",
       "    <tr>\n",
       "      <td>50%</td>\n",
       "      <td>1.078345e+09</td>\n",
       "      <td>4.000000e+03</td>\n",
       "      <td>1.310000e+03</td>\n",
       "      <td>1.000000</td>\n",
       "      <td>23.000000</td>\n",
       "      <td>7.000000</td>\n",
       "      <td>2.00000</td>\n",
       "      <td>0.000000</td>\n",
       "      <td>32.000000</td>\n",
       "    </tr>\n",
       "    <tr>\n",
       "      <td>75%</td>\n",
       "      <td>1.621596e+09</td>\n",
       "      <td>9.862000e+03</td>\n",
       "      <td>4.165000e+03</td>\n",
       "      <td>1.115640</td>\n",
       "      <td>59.000000</td>\n",
       "      <td>10.000000</td>\n",
       "      <td>6.00000</td>\n",
       "      <td>3.000000</td>\n",
       "      <td>48.390000</td>\n",
       "    </tr>\n",
       "    <tr>\n",
       "      <td>max</td>\n",
       "      <td>2.147460e+09</td>\n",
       "      <td>2.147484e+07</td>\n",
       "      <td>1.026684e+07</td>\n",
       "      <td>15066.000000</td>\n",
       "      <td>87142.000000</td>\n",
       "      <td>80.000000</td>\n",
       "      <td>149.00000</td>\n",
       "      <td>19311.000000</td>\n",
       "      <td>91.960000</td>\n",
       "    </tr>\n",
       "  </tbody>\n",
       "</table>\n",
       "</div>"
      ],
      "text/plain": [
       "         project id          goal       pledged  funded percentage  \\\n",
       "count  4.595700e+04  4.595700e+04  4.594500e+04       45957.000000   \n",
       "mean   1.080800e+09  1.194271e+04  4.980750e+03           1.850129   \n",
       "std    6.218057e+08  1.887583e+05  5.674162e+04          88.492706   \n",
       "min    3.940900e+04  1.000000e-02  0.000000e+00           0.000000   \n",
       "25%    5.438962e+08  1.800000e+03  1.960000e+02           0.044000   \n",
       "50%    1.078345e+09  4.000000e+03  1.310000e+03           1.000000   \n",
       "75%    1.621596e+09  9.862000e+03  4.165000e+03           1.115640   \n",
       "max    2.147460e+09  2.147484e+07  1.026684e+07       15066.000000   \n",
       "\n",
       "            backers        levels      updates      comments      duration  \n",
       "count  45957.000000  45957.000000  45957.00000  45957.000000  45957.000000  \n",
       "mean      69.973192      8.004939      4.08508      8.379529     39.995547  \n",
       "std      688.628479      4.233907      6.43922    174.015737     17.414458  \n",
       "min        0.000000      0.000000      0.00000      0.000000      1.000000  \n",
       "25%        5.000000      5.000000      0.00000      0.000000     30.000000  \n",
       "50%       23.000000      7.000000      2.00000      0.000000     32.000000  \n",
       "75%       59.000000     10.000000      6.00000      3.000000     48.390000  \n",
       "max    87142.000000     80.000000    149.00000  19311.000000     91.960000  "
      ]
     },
     "execution_count": 6,
     "metadata": {},
     "output_type": "execute_result"
    }
   ],
   "source": [
    "kickstarter_raw.describe()"
   ]
  },
  {
   "cell_type": "markdown",
   "metadata": {},
   "source": [
    "### Create a histogram that shows the distribution for number of backers. What is the skew of the distribution?"
   ]
  },
  {
   "cell_type": "code",
   "execution_count": 7,
   "metadata": {
    "scrolled": false
   },
   "outputs": [
    {
     "data": {
      "image/png": "[encoded data removed]",
      "text/plain": [
       "<Figure size 432x288 with 1 Axes>"
      ]
     },
     "metadata": {
      "needs_background": "light"
     },
     "output_type": "display_data"
    }
   ],
   "source": [
    "# plot out histogram with matplotlib\n",
    "import matplotlib.pyplot as plt\n",
    "%matplotlib inline\n",
    "\n",
    "plt.hist(kickstarter_raw.loc[:,'backers'], bins=40)\n",
    "plt.xlabel('Backers')\n",
    "plt.ylabel('Frequency')\n",
    "plt.title('Histogram of project backers')\n",
    "\n",
    "plt.show()"
   ]
  },
  {
   "cell_type": "markdown",
   "metadata": {},
   "source": [
    "Plotting of histogram reveals a high column in the 0-2000 backers bin, with x-axis limits indicating possible outliers reaching a maximum of close to 80,000 backers. We could utilise z-scores as a way to exclude outliers:"
   ]
  },
  {
   "cell_type": "code",
   "execution_count": 8,
   "metadata": {},
   "outputs": [
    {
     "data": {
      "text/plain": [
       "count       91.000000\n",
       "mean      7729.802198\n",
       "std      13230.321851\n",
       "min       2136.000000\n",
       "25%       2696.000000\n",
       "50%       3915.000000\n",
       "75%       5545.000000\n",
       "max      87142.000000\n",
       "Name: backers, dtype: float64"
      ]
     },
     "execution_count": 8,
     "metadata": {},
     "output_type": "execute_result"
    }
   ],
   "source": [
    "from scipy import stats\n",
    "import numpy as np\n",
    "\n",
    "# Utilising z-scores as a way to identify outliers\n",
    "# ------------------------------------------------\n",
    "# Any value that deviates from mean by more than 3 standard deviations\n",
    "# will be flagged out as an outlier, i.e. z-score > 3. In other words,\n",
    "# we will re-plot the histogram considering only non-outliers.\n",
    "\n",
    "z_score_values=np.abs(stats.zscore(kickstarter_raw.loc[:,'backers']))\n",
    "\n",
    "# create a new column to hold z-scores\n",
    "kickstarter_raw['z-score'] = pd.Series(z_score_values)\n",
    "\n",
    "# identify outliers (z-score exceeding 3)\n",
    "outliers = kickstarter_raw.loc[kickstarter_raw.loc[:,'z-score'] > 3,:]\n",
    "\n",
    "# brief count and inspection of backer-count for outliers\n",
    "outliers.loc[:,'backers'].describe()"
   ]
  },
  {
   "cell_type": "code",
   "execution_count": 9,
   "metadata": {
    "scrolled": true
   },
   "outputs": [
    {
     "data": {
      "image/png": "[encoded data removed]",
      "text/plain": [
       "<Figure size 432x288 with 1 Axes>"
      ]
     },
     "metadata": {
      "needs_background": "light"
     },
     "output_type": "display_data"
    }
   ],
   "source": [
    "# filter out non-outliers (z-score within 3)\n",
    "non_outliers = kickstarter_raw.loc[kickstarter_raw.loc[:,'z-score'] <= 3,:]\n",
    "\n",
    "#fig, ax = plt.subplots()\n",
    "#ax.hist(non_outliers.loc[:,'backers'], bins=40)\n",
    "#ax.set_title('Distribution of project backers')\n",
    "\n",
    "#plot histogram of project backer count\n",
    "plt.hist(non_outliers.loc[:,'backers'], bins=40)\n",
    "plt.xlabel('Backers')\n",
    "plt.ylabel('Frequency')\n",
    "plt.title('Histogram of project backers (outliers exluded)')\n",
    "\n",
    "plt.show()"
   ]
  },
  {
   "cell_type": "markdown",
   "metadata": {},
   "source": [
    "After filtering out outliers, the distribution continues to be strongly skewed to the right, with the 0-100 backers bin occurring at highest frequency of approximately 40,000 projects. At this point, we can conclude that the distribution of backers is highly skewed to the right."
   ]
  },
  {
   "cell_type": "code",
   "execution_count": 10,
   "metadata": {},
   "outputs": [
    {
     "name": "stdout",
     "output_type": "stream",
     "text": [
      "0     3945\n",
      "1     2566\n",
      "2     1924\n",
      "3     1456\n",
      "4     1139\n",
      "5     1097\n",
      "6      910\n",
      "7      886\n",
      "8      839\n",
      "9      703\n",
      "10     681\n",
      "11     617\n",
      "12     599\n",
      "13     613\n",
      "14     605\n",
      "15     554\n",
      "16     542\n",
      "17     567\n",
      "18     537\n",
      "19     487\n",
      "Name: backers, dtype: int64\n"
     ]
    }
   ],
   "source": [
    "backer_distribution = non_outliers.loc[:,'backers'].value_counts().sort_index()\n",
    "print(backer_distribution.head(20))"
   ]
  },
  {
   "cell_type": "markdown",
   "metadata": {},
   "source": [
    "Further inspection of non-outliers data-set reveal that a large number of projects have 0 backers."
   ]
  },
  {
   "cell_type": "markdown",
   "metadata": {},
   "source": [
    "### Is the ‘duration’ variable normally distributed?\n",
    "\n",
    "From a visual perspective, normal distribution carries the requirement that graph takes on a bell-shaped curve, symmetric around the mean value, i.e. no bias towards its left or right side. We first inspect the histrogram of the duration plot:"
   ]
  },
  {
   "cell_type": "code",
   "execution_count": 11,
   "metadata": {},
   "outputs": [
    {
     "data": {
      "image/png": "[encoded data removed]",
      "text/plain": [
       "<Figure size 432x288 with 1 Axes>"
      ]
     },
     "metadata": {
      "needs_background": "light"
     },
     "output_type": "display_data"
    }
   ],
   "source": [
    "#plot histogram of project duration values (go back to using the raw data-set, not non-outliers)\n",
    "plt.hist(kickstarter_raw.loc[:,'duration'], bins=40)\n",
    "plt.xlabel('Duration')\n",
    "plt.ylabel('Frequency')\n",
    "plt.title('Histogram of project durations')\n",
    "\n",
    "plt.show()"
   ]
  },
  {
   "cell_type": "code",
   "execution_count": 12,
   "metadata": {},
   "outputs": [
    {
     "data": {
      "text/plain": [
       "count    45957.000000\n",
       "mean        39.995547\n",
       "std         17.414458\n",
       "min          1.000000\n",
       "25%         30.000000\n",
       "50%         32.000000\n",
       "75%         48.390000\n",
       "max         91.960000\n",
       "Name: duration, dtype: float64"
      ]
     },
     "execution_count": 12,
     "metadata": {},
     "output_type": "execute_result"
    }
   ],
   "source": [
    "kickstarter_raw.loc[:,'duration'].describe()"
   ]
  },
  {
   "cell_type": "markdown",
   "metadata": {},
   "source": [
    "To get a better perspective of how close the above histogram is to ressembling a normal distribution, we create a reference distribution (using the [numpy.random.normal](https://docs.scipy.org/doc/numpy-1.15.0/reference/generated/numpy.random.normal.html) function) based on the actual mean, standard-deviation and population size of the kickstarter data-set:"
   ]
  },
  {
   "cell_type": "code",
   "execution_count": 13,
   "metadata": {},
   "outputs": [
    {
     "data": {
      "image/png": "[encoded data removed]",
      "text/plain": [
       "<Figure size 432x288 with 1 Axes>"
      ]
     },
     "metadata": {
      "needs_background": "light"
     },
     "output_type": "display_data"
    }
   ],
   "source": [
    "# Parameters from above kick-starter duration statistics\n",
    "ks_mean = 39.995547\n",
    "ks_stddev = 17.414458\n",
    "ks_size = 45957\n",
    "\n",
    "# create reference model\n",
    "reference = np.random.normal(loc = ks_mean, scale = ks_stddev, size = ks_size)\n",
    "\n",
    "# plot kickstarter duration histogram together with reference model\n",
    "plt.hist(kickstarter_raw.loc[:,'duration'], bins = 40, alpha = 0.7, label = 'Distribution of duration')\n",
    "plt.hist(reference, bins = 40, alpha = 0.7, label='Reference model')\n",
    "plt.title('Histogram of Project durations vs Reference model (Normal Distribution)')\n",
    "plt.legend()\n",
    "\n",
    "plt.show()"
   ]
  },
  {
   "cell_type": "markdown",
   "metadata": {},
   "source": [
    "Based on the above comparative plot, the shape of the actual distribution of duration values differs quite a bit from the reference model.\n",
    "\n",
    "Pearson's chi-squared test can applied to sets of data to evaluate how likely it is that any observed difference between the sets arose by chance. In this case, we are interested in evaluating the project duration values alongside the reference model, i.e. a normal distribution.\n",
    "\n",
    "The [scipy.stats.normaltest](https://docs.scipy.org/doc/scipy/reference/generated/scipy.stats.normaltest.html#scipy.stats.normaltest) will specifically test if the duration values is different from a standard normal distribution.  This function returns a 2-tuple of the chi-squared probability, and the associated p-value. \n",
    "\n",
    "Given the null hypothesis that duration values came from a normal distribution, the p-value represents the largest probability of obtaining test results at least as extreme as the results actually observed, under the assumption that the null hypothesis is correct. If the p-value is very small (compared against a pre-determined significance value), it means it is unlikely that the duration values came from a normal distribution."
   ]
  },
  {
   "cell_type": "code",
   "execution_count": 14,
   "metadata": {},
   "outputs": [
    {
     "name": "stdout",
     "output_type": "stream",
     "text": [
      "NormaltestResult(statistic=6985.5754355009585, pvalue=0.0)\n",
      "p-value is 0.0, alpha is 0.001\n",
      "The null hypothesis can be rejected. Duration values are not normally distributed.\n"
     ]
    }
   ],
   "source": [
    "from scipy import stats\n",
    "\n",
    "# result is a 2-tuple of the chi-squared statistic, and the associated p-value\n",
    "result = stats.normaltest(np.array(kickstarter_raw.loc[:,'duration']))\n",
    "\n",
    "# significance value set at 0.001\n",
    "alpha = 1e-3\n",
    "\n",
    "print(result)\n",
    "print('p-value is {0}, alpha is {1}'.format(result.pvalue, alpha))\n",
    "\n",
    "# null hypothesis: duration is normally distributed\n",
    "if result.pvalue < alpha:  \n",
    "    print('The null hypothesis can be rejected. Duration values are not normally distributed.')\n",
    "else:\n",
    "    print('The null hypothesis cannot be rejected. Duration values are normally distributed.')"
   ]
  },
  {
   "cell_type": "markdown",
   "metadata": {},
   "source": [
    "Given the above results (visual comparison, and chi-squared test for normality), we can conclude the project duration values are not normally distributed."
   ]
  },
  {
   "cell_type": "markdown",
   "metadata": {},
   "source": [
    "### If you could collect data on another attribute of these projects, what would it be and why?"
   ]
  },
  {
   "cell_type": "markdown",
   "metadata": {},
   "source": [
    "Another potentially useful attribute would be the degree of sharing on social media platforms, e.g. *project ABC was mentioned in 100 shared public posts on Facebook for the duration of its fund-raising campaign*. In the current age, the easiest way to get the word out on a kickstarter project is to reach out to as many people as possible on the Internet, which is best done on social media platforms. A greater outreach could translate into attracting more backers, thus bringing a positive impact to attaining or even surpassing funding goals. In this case, we can attempt to verify if there is a correlation between social media outreach and project success."
   ]
  },
  {
   "cell_type": "markdown",
   "metadata": {},
   "source": [
    "## Part 2: Qualitative Analysis"
   ]
  },
  {
   "cell_type": "code",
   "execution_count": 15,
   "metadata": {},
   "outputs": [],
   "source": [
    "import seaborn as sns"
   ]
  },
  {
   "cell_type": "markdown",
   "metadata": {},
   "source": [
    "For this section, we would be using seaborn module to plot our charts."
   ]
  },
  {
   "cell_type": "markdown",
   "metadata": {},
   "source": [
    "### What's the best length of time to run a campaign?"
   ]
  },
  {
   "cell_type": "markdown",
   "metadata": {},
   "source": [
    "The *duration* column provides the length of time clocked by every funding campaign in the data-set. Splitting them by *status* would give provide a clearer picture on determining if duration plays a part in the success of a campaign."
   ]
  },
  {
   "cell_type": "code",
   "execution_count": 16,
   "metadata": {
    "scrolled": true
   },
   "outputs": [
    {
     "data": {
      "image/png": "[encoded data removed]",
      "text/plain": [
       "<Figure size 504x504 with 1 Axes>"
      ]
     },
     "metadata": {
      "needs_background": "light"
     },
     "output_type": "display_data"
    }
   ],
   "source": [
    "sns_plot = sns.catplot(x='status', y='duration', data=kickstarter_raw, kind='box', height = 7, aspect = 1)\n",
    "\n",
    "# x-axis config\n",
    "plt.xlabel('Project Status')\n",
    "\n",
    "# y-axis config\n",
    "plt.ylabel('Duration of Funding Campaign (days)')\n",
    "plt.yticks(np.arange(0, 95, 5))\n",
    "\n",
    "# general config\n",
    "plt.title('Duration of Funding Campaign by Project Status')\n",
    "\n",
    "plt.show()\n",
    "\n",
    "sns_plot.savefig('images/duration_of_funding_campaign_by_project_status.png')"
   ]
  },
  {
   "cell_type": "markdown",
   "metadata": {},
   "source": [
    "Duration of successful projects is positively skewed, with median occurring around 31 days. However, the median value for successful projects (blue box) mostly do not exceed the inter-quartile ranges of the plots for failed (orange) and canceled (red) ones, indicating that there is no significant difference in durations of the projects with various outcomes.\n",
    "\n",
    "In other words, duration likely has little bearing on the outcome of a funding campaign."
   ]
  },
  {
   "cell_type": "markdown",
   "metadata": {},
   "source": [
    "### What's the ideal pledge goal?"
   ]
  },
  {
   "cell_type": "markdown",
   "metadata": {},
   "source": [
    "Project founders can designate a pledge quantum that determines the success of a funding campaign, and that is capture in the *goal* column. Again, by charting the mean value across the various *status* values, we can observe the a typical ideal goal of a successful campaign."
   ]
  },
  {
   "cell_type": "code",
   "execution_count": 17,
   "metadata": {
    "scrolled": true
   },
   "outputs": [
    {
     "data": {
      "image/png": "[encoded data removed]",
      "text/plain": [
       "<Figure size 504x432 with 1 Axes>"
      ]
     },
     "metadata": {
      "needs_background": "light"
     },
     "output_type": "display_data"
    }
   ],
   "source": [
    "# pre-plot config\n",
    "plt.figure(figsize=(7, 6))\n",
    "\n",
    "# actual plot\n",
    "sns_plot = sns.barplot(x='status', y='goal', data=kickstarter_raw, estimator = np.mean, ci=None)\n",
    "\n",
    "# x-axis config\n",
    "plt.xlabel('Project Status')\n",
    "\n",
    "# y-axis config\n",
    "plt.ylabel('Pledge Goal ($)')\n",
    "plt.yticks(np.arange(0, 75000, 5000))\n",
    "\n",
    "# general config\n",
    "plt.title('Pledge Goals by Project Status')\n",
    "\n",
    "plt.show()\n",
    "\n",
    "# slightly different way of saving image for categorical plots. Using wrong way would hang the whole notebook during Run-All!\n",
    "fig = sns_plot.get_figure()\n",
    "fig.savefig(\"images/pledge_goals_by_project_status.png\")"
   ]
  },
  {
   "cell_type": "markdown",
   "metadata": {},
   "source": [
    "Mean pledge goal of successful campaigns approximately $5,000.\n",
    "\n",
    "Furthermore, it is also logical that the lower the quantum of the pledge goal, the easier it is to achieve a successful campaign."
   ]
  },
  {
   "cell_type": "markdown",
   "metadata": {},
   "source": [
    "### What type of projects would be most successful at getting funded?"
   ]
  },
  {
   "cell_type": "code",
   "execution_count": 18,
   "metadata": {
    "scrolled": true
   },
   "outputs": [
    {
     "data": {
      "image/png": "[encoded data removed]",
      "text/plain": [
       "<Figure size 504x504 with 1 Axes>"
      ]
     },
     "metadata": {},
     "output_type": "display_data"
    }
   ],
   "source": [
    "categories = kickstarter_raw.loc[:,'category'].unique().tolist()\n",
    "\n",
    "success_rates = []\n",
    "for cat in categories:\n",
    "    num_successful_projects_in_category = len(kickstarter_raw.loc[(kickstarter_raw.loc[:,'category']==cat) & (kickstarter_raw.loc[:,'status']=='successful'),:])\n",
    "    num_projects_in_category = len(kickstarter_raw.loc[(kickstarter_raw.loc[:,'category']==cat),:])\n",
    "    rate = num_successful_projects_in_category / num_projects_in_category * 100\n",
    "    success_rates.append(rate)\n",
    "    \n",
    "#print(success_rate)\n",
    "\n",
    "success_rate_df = pd.DataFrame({'category': categories, 'success_rate': success_rates}).sort_values(by = 'category')\n",
    "\n",
    "\n",
    "# pre-plot config\n",
    "sns.set_style(\"whitegrid\")\n",
    "\n",
    "# actual plot\n",
    "sns_plot = sns.catplot(y='category', x='success_rate', data = success_rate_df, kind = 'bar', ci = None, height = 7, aspect = 1)\n",
    "\n",
    "# x-axis config\n",
    "plt.xlim(0,100)\n",
    "plt.xlabel('Success (%)')\n",
    "\n",
    "# y-axis config\n",
    "plt.ylabel('') # manually turn off the label\n",
    "\n",
    "# general config\n",
    "plt.title('Success Rate by Project Category')\n",
    "\n",
    "plt.show()\n",
    "\n",
    "sns_plot.savefig('images/success_rate_by_category.png')"
   ]
  },
  {
   "cell_type": "markdown",
   "metadata": {},
   "source": [
    "Top 3 categories with highest success rates would Dance, Theater and Arts."
   ]
  },
  {
   "cell_type": "markdown",
   "metadata": {},
   "source": [
    "### Is there an ideal month/day/time to launch a campaign?"
   ]
  },
  {
   "cell_type": "markdown",
   "metadata": {},
   "source": [
    "Given the *funded date* and *duration columns*, we can work out a *launch date* after factoring in the time-delta.\n",
    "\n",
    "The *backers* column provides the total number of backers who have contributed to a particular project campaign. A high backer-count would likely translate into greater campaign success. In that case, we can attempt to analyse the best time to launch a campaign that could possibly yield the highest number of backers."
   ]
  },
  {
   "cell_type": "code",
   "execution_count": 19,
   "metadata": {},
   "outputs": [
    {
     "data": {
      "text/html": [
       "<div>\n",
       "<style scoped>\n",
       "    .dataframe tbody tr th:only-of-type {\n",
       "        vertical-align: middle;\n",
       "    }\n",
       "\n",
       "    .dataframe tbody tr th {\n",
       "        vertical-align: top;\n",
       "    }\n",
       "\n",
       "    .dataframe thead th {\n",
       "        text-align: right;\n",
       "    }\n",
       "</style>\n",
       "<table border=\"1\" class=\"dataframe\">\n",
       "  <thead>\n",
       "    <tr style=\"text-align: right;\">\n",
       "      <th></th>\n",
       "      <th>name</th>\n",
       "      <th>funded date</th>\n",
       "      <th>duration</th>\n",
       "      <th>launch date</th>\n",
       "      <th>day</th>\n",
       "      <th>month</th>\n",
       "      <th>hour</th>\n",
       "    </tr>\n",
       "  </thead>\n",
       "  <tbody>\n",
       "    <tr>\n",
       "      <td>0</td>\n",
       "      <td>WHILE THE TREES SLEEP</td>\n",
       "      <td>2011-08-19 19:28:17+00:00</td>\n",
       "      <td>30.00</td>\n",
       "      <td>2011-07-20 19:28:17+00:00</td>\n",
       "      <td>Wed</td>\n",
       "      <td>Jul</td>\n",
       "      <td>19</td>\n",
       "    </tr>\n",
       "    <tr>\n",
       "      <td>1</td>\n",
       "      <td>Educational Online Trading Card Game</td>\n",
       "      <td>2010-08-02 03:59:00+00:00</td>\n",
       "      <td>47.18</td>\n",
       "      <td>2010-06-15 03:59:00+00:00</td>\n",
       "      <td>Tue</td>\n",
       "      <td>Jun</td>\n",
       "      <td>3</td>\n",
       "    </tr>\n",
       "    <tr>\n",
       "      <td>2</td>\n",
       "      <td>STRUM</td>\n",
       "      <td>2012-06-08 00:00:31+00:00</td>\n",
       "      <td>28.00</td>\n",
       "      <td>2012-05-11 00:00:31+00:00</td>\n",
       "      <td>Fri</td>\n",
       "      <td>May</td>\n",
       "      <td>0</td>\n",
       "    </tr>\n",
       "  </tbody>\n",
       "</table>\n",
       "</div>"
      ],
      "text/plain": [
       "                                   name               funded date  duration  \\\n",
       "0                 WHILE THE TREES SLEEP 2011-08-19 19:28:17+00:00     30.00   \n",
       "1  Educational Online Trading Card Game 2010-08-02 03:59:00+00:00     47.18   \n",
       "2                                 STRUM 2012-06-08 00:00:31+00:00     28.00   \n",
       "\n",
       "                launch date  day month  hour  \n",
       "0 2011-07-20 19:28:17+00:00  Wed   Jul    19  \n",
       "1 2010-06-15 03:59:00+00:00  Tue   Jun     3  \n",
       "2 2012-05-11 00:00:31+00:00  Fri   May     0  "
      ]
     },
     "execution_count": 19,
     "metadata": {},
     "output_type": "execute_result"
    }
   ],
   "source": [
    "import datetime as dt\n",
    "\n",
    "# convert duration to a time-delta type\n",
    "temp = kickstarter_raw.loc[:,'duration'].apply(np.ceil).apply(lambda x: pd.Timedelta(x, unit='D'))\n",
    "\n",
    "# work out a new launch date column\n",
    "kickstarter_raw['launch date'] = kickstarter_raw.loc[:,'funded date'] - temp\n",
    "\n",
    "# 0 is Monday\n",
    "#kickstarter_raw['day_index'] = kickstarter_raw.loc[:,'launch date'].dt.strftime('%w')\n",
    "\n",
    "# 0 is Monday\n",
    "kickstarter_raw['day'] = kickstarter_raw.loc[:,'launch date'].dt.strftime('%a')\n",
    "\n",
    "# 1 is January\n",
    "#kickstarter_raw['month_index'] = kickstarter_raw.loc[:,'launch date'].dt.strftime('%m').astype(int)\n",
    "\n",
    "# 1 is January\n",
    "kickstarter_raw['month'] = kickstarter_raw.loc[:,'launch date'].dt.strftime('%b')\n",
    "\n",
    "# 0 is 12 midnight\n",
    "kickstarter_raw['hour'] = kickstarter_raw.loc[:,'launch date'].dt.strftime('%H').astype(int)\n",
    "\n",
    "# quick sanity check on above computation\n",
    "kickstarter_raw.loc[:,['name','funded date','duration','launch date', 'day', 'month', 'hour']].head(3)"
   ]
  },
  {
   "cell_type": "markdown",
   "metadata": {},
   "source": [
    "With the additional columns, we can now chart the average backer count across the various aspects of time, starting with Day-of-week:"
   ]
  },
  {
   "cell_type": "code",
   "execution_count": 20,
   "metadata": {
    "scrolled": true
   },
   "outputs": [
    {
     "data": {
      "image/png": "[encoded data removed]",
      "text/plain": [
       "<Figure size 504x504 with 1 Axes>"
      ]
     },
     "metadata": {},
     "output_type": "display_data"
    }
   ],
   "source": [
    "fig, ax = plt.subplots(figsize = (7, 7))\n",
    "\n",
    "#sns_plot = sns.catplot(x='day_index', y='backers', data=kickstarter_raw.loc[kickstarter_raw.loc[:,'status']=='successful',:], kind='box', height = 7, aspect = 1)\n",
    "day_of_week = ['Mon','Tue','Wed','Thu','Fri','Sat','Sun']\n",
    "sns_plot = sns.barplot(x = 'day', y = 'backers', order = day_of_week, data=kickstarter_raw.loc[:,:], estimator = np.mean, ci = None)\n",
    "\n",
    "# x-axis config\n",
    "plt.xlabel('') # to turn off the main x-axis label, since bar names are self-explanatory\n",
    "\n",
    "# y-axis config\n",
    "plt.ylabel('Avg. Backer count')\n",
    "#plt.yticks(np.arange(0, 130))\n",
    "\n",
    "# general config\n",
    "plt.title('Average Backer-count by Day-of-Week')\n",
    "\n",
    "plt.show()\n",
    "\n",
    "fig = sns_plot.get_figure()\n",
    "fig.savefig(\"images/avg_backer_count_by_day_of_week.png\")"
   ]
  },
  {
   "cell_type": "markdown",
   "metadata": {},
   "source": [
    "Above chart indicates that launching a project in the 1st half of the week (Wednesday to be exact) would yield the highest possible number of backers. In contrast, 2nd half of the week (particularly Friday) would not be a good move.\n",
    "\n",
    "Next we take a look at Month-of-year:"
   ]
  },
  {
   "cell_type": "code",
   "execution_count": 21,
   "metadata": {},
   "outputs": [
    {
     "data": {
      "image/png": "[encoded data removed]",
      "text/plain": [
       "<Figure size 504x504 with 1 Axes>"
      ]
     },
     "metadata": {},
     "output_type": "display_data"
    }
   ],
   "source": [
    "fig, ax = plt.subplots(figsize = (7, 7))\n",
    "\n",
    "months_of_year = ['Jan','Feb','Mar','Apr','May','Jun','Jul','Aug','Sep','Oct','Nov','Dec']\n",
    "sns_plot = sns.barplot(x = 'month', y = 'backers', order = months_of_year, data=kickstarter_raw.loc[:,:], estimator = np.mean, ci=None)\n",
    "\n",
    "# x-axis config\n",
    "plt.xlabel('')\n",
    "\n",
    "# y-axis config\n",
    "plt.ylabel('Avg. Backer count')\n",
    "#plt.yticks(np.arange(0, 130))\n",
    "\n",
    "# general config\n",
    "plt.title('Average Backer-count by Month')\n",
    "\n",
    "plt.show()\n",
    "\n",
    "fig = sns_plot.get_figure()\n",
    "fig.savefig(\"images/avg_backer_count_by_month_of_year.png\")"
   ]
  },
  {
   "cell_type": "markdown",
   "metadata": {},
   "source": [
    "April seems to be the best month for launching a campaign, it being the only month where average number of backers surpass the 100-mark.\n",
    "\n",
    "Finally we take a look at Hour-of-day:"
   ]
  },
  {
   "cell_type": "code",
   "execution_count": 22,
   "metadata": {},
   "outputs": [
    {
     "data": {
      "image/png": "[encoded data removed]",
      "text/plain": [
       "<Figure size 504x504 with 1 Axes>"
      ]
     },
     "metadata": {},
     "output_type": "display_data"
    }
   ],
   "source": [
    "fig, ax = plt.subplots(figsize = (7, 7))\n",
    "\n",
    "sns_plot = sns.barplot(x = 'hour', y = 'backers', data=kickstarter_raw.loc[:,:], estimator = np.mean, ci=None)\n",
    "\n",
    "# x-axis config\n",
    "plt.xlabel('')\n",
    "\n",
    "# y-axis config\n",
    "plt.ylabel('Avg. Backer count')\n",
    "#plt.yticks(np.arange(0, 130))\n",
    "\n",
    "# general config\n",
    "plt.title('Average Backer-count by Hour-of-day')\n",
    "\n",
    "plt.show()\n",
    "\n",
    "fig = sns_plot.get_figure()\n",
    "fig.savefig(\"images/avg_backer_count_by_hour_of_day.png\")"
   ]
  },
  {
   "cell_type": "markdown",
   "metadata": {},
   "source": [
    "Launching a project at 12pm GMT seems to yield the highest possible number of backers.\n",
    "\n",
    "<img src=\"gmt_12pm.png\" />\n",
    "\n",
    "12pm GMT converts to 8am EST, which means campaigns timed to launch at the start-of-day in the U.S. market can stand to capture the largest number of backers possible. It could possibly be due to Kickstarter algorithm picking up new projects to be featured in email newsletters and/or the Kickstarter website front-page in the morning, hence getting a great outreach right at launch time that could contribute to an eventual high backer count."
   ]
  },
  {
   "cell_type": "markdown",
   "metadata": {},
   "source": [
    "## Conclusion\n",
    "\n",
    "Key insights:\n",
    "- Duration is not a factor in campaign success.\n",
    "- Successful campaigns tend to set a goal of approximately $5,000.\n",
    "- Dance, Theater and Arts project campaigns tend to enjoy higher rates of success compared to other categories. Fashion project campaigns have lowest success rate.\n",
    "- Launch a campaign at start of week, preferably time it to coincide with start of day in the U.S. market.\n",
    "- February to April (April being the best) is a good period in the year to launch campaigns."
   ]
  }
 ],
 "metadata": {
  "kernelspec": {
   "display_name": "Python 3",
   "language": "python",
   "name": "python3"
  },
  "language_info": {
   "codemirror_mode": {
    "name": "ipython",
    "version": 3
   },
   "file_extension": ".py",
   "mimetype": "text/x-python",
   "name": "python",
   "nbconvert_exporter": "python",
   "pygments_lexer": "ipython3",
   "version": "3.7.4"
  }
 },
 "nbformat": 4,
 "nbformat_minor": 2
}
